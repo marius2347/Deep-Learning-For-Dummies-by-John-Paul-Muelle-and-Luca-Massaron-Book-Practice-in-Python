{
 "cells": [
  {
   "cell_type": "markdown",
   "id": "0b905de1",
   "metadata": {},
   "source": [
    "# Deep Learning Book"
   ]
  },
  {
   "cell_type": "markdown",
   "id": "3d3e2c93",
   "metadata": {},
   "source": [
    "## Libraries"
   ]
  },
  {
   "cell_type": "code",
   "execution_count": 1,
   "id": "629163fc",
   "metadata": {},
   "outputs": [],
   "source": [
    "#from sklearn.datasets import load_boston -> depricated in 1.3\n",
    "\n",
    "# importing the Boston housing dataset from GitHub Gist\n",
    "# The dataset can be found at: https://gist.github.com/nnbphuong/def91b5553736764e8e08f6255390f37\n",
    "import pandas as pd\n",
    "import numpy as np\n",
    "boston = pd.read_csv(\"BostonHousing.csv\")\n",
    "\n",
    "# Importing necessary libraries\n",
    "from sklearn.preprocessing import scale, OneHotEncoder, LabelEncoder, PolynomialFeatures\n",
    "from sklearn.linear_model import LinearRegression, Ridge, LogisticRegression, SGDRegressor\n",
    "from sklearn.metrics import r2_score, accuracy_score\n",
    "from sklearn.model_selection import train_test_split\n",
    "from sklearn.datasets import make_moons\n",
    "import matplotlib.pyplot as plt"
   ]
  },
  {
   "cell_type": "code",
   "execution_count": 2,
   "id": "04fb5e8e",
   "metadata": {},
   "outputs": [
    {
     "data": {
      "text/html": [
       "<div>\n",
       "<style scoped>\n",
       "    .dataframe tbody tr th:only-of-type {\n",
       "        vertical-align: middle;\n",
       "    }\n",
       "\n",
       "    .dataframe tbody tr th {\n",
       "        vertical-align: top;\n",
       "    }\n",
       "\n",
       "    .dataframe thead th {\n",
       "        text-align: right;\n",
       "    }\n",
       "</style>\n",
       "<table border=\"1\" class=\"dataframe\">\n",
       "  <thead>\n",
       "    <tr style=\"text-align: right;\">\n",
       "      <th></th>\n",
       "      <th>CRIM</th>\n",
       "      <th>ZN</th>\n",
       "      <th>INDUS</th>\n",
       "      <th>CHAS</th>\n",
       "      <th>NOX</th>\n",
       "      <th>RM</th>\n",
       "      <th>AGE</th>\n",
       "      <th>DIS</th>\n",
       "      <th>RAD</th>\n",
       "      <th>TAX</th>\n",
       "      <th>PTRATIO</th>\n",
       "      <th>LSTAT</th>\n",
       "      <th>MEDV</th>\n",
       "      <th>CAT. MEDV</th>\n",
       "    </tr>\n",
       "  </thead>\n",
       "  <tbody>\n",
       "    <tr>\n",
       "      <th>0</th>\n",
       "      <td>0.00632</td>\n",
       "      <td>18.0</td>\n",
       "      <td>2.31</td>\n",
       "      <td>0</td>\n",
       "      <td>0.538</td>\n",
       "      <td>6.575</td>\n",
       "      <td>65.2</td>\n",
       "      <td>4.0900</td>\n",
       "      <td>1</td>\n",
       "      <td>296</td>\n",
       "      <td>15.3</td>\n",
       "      <td>4.98</td>\n",
       "      <td>24.0</td>\n",
       "      <td>0</td>\n",
       "    </tr>\n",
       "    <tr>\n",
       "      <th>1</th>\n",
       "      <td>0.02731</td>\n",
       "      <td>0.0</td>\n",
       "      <td>7.07</td>\n",
       "      <td>0</td>\n",
       "      <td>0.469</td>\n",
       "      <td>6.421</td>\n",
       "      <td>78.9</td>\n",
       "      <td>4.9671</td>\n",
       "      <td>2</td>\n",
       "      <td>242</td>\n",
       "      <td>17.8</td>\n",
       "      <td>9.14</td>\n",
       "      <td>21.6</td>\n",
       "      <td>0</td>\n",
       "    </tr>\n",
       "    <tr>\n",
       "      <th>2</th>\n",
       "      <td>0.02729</td>\n",
       "      <td>0.0</td>\n",
       "      <td>7.07</td>\n",
       "      <td>0</td>\n",
       "      <td>0.469</td>\n",
       "      <td>7.185</td>\n",
       "      <td>61.1</td>\n",
       "      <td>4.9671</td>\n",
       "      <td>2</td>\n",
       "      <td>242</td>\n",
       "      <td>17.8</td>\n",
       "      <td>4.03</td>\n",
       "      <td>34.7</td>\n",
       "      <td>1</td>\n",
       "    </tr>\n",
       "    <tr>\n",
       "      <th>3</th>\n",
       "      <td>0.03237</td>\n",
       "      <td>0.0</td>\n",
       "      <td>2.18</td>\n",
       "      <td>0</td>\n",
       "      <td>0.458</td>\n",
       "      <td>6.998</td>\n",
       "      <td>45.8</td>\n",
       "      <td>6.0622</td>\n",
       "      <td>3</td>\n",
       "      <td>222</td>\n",
       "      <td>18.7</td>\n",
       "      <td>2.94</td>\n",
       "      <td>33.4</td>\n",
       "      <td>1</td>\n",
       "    </tr>\n",
       "    <tr>\n",
       "      <th>4</th>\n",
       "      <td>0.06905</td>\n",
       "      <td>0.0</td>\n",
       "      <td>2.18</td>\n",
       "      <td>0</td>\n",
       "      <td>0.458</td>\n",
       "      <td>7.147</td>\n",
       "      <td>54.2</td>\n",
       "      <td>6.0622</td>\n",
       "      <td>3</td>\n",
       "      <td>222</td>\n",
       "      <td>18.7</td>\n",
       "      <td>5.33</td>\n",
       "      <td>36.2</td>\n",
       "      <td>1</td>\n",
       "    </tr>\n",
       "  </tbody>\n",
       "</table>\n",
       "</div>"
      ],
      "text/plain": [
       "      CRIM    ZN  INDUS  CHAS    NOX     RM   AGE     DIS  RAD  TAX  PTRATIO  \\\n",
       "0  0.00632  18.0   2.31     0  0.538  6.575  65.2  4.0900    1  296     15.3   \n",
       "1  0.02731   0.0   7.07     0  0.469  6.421  78.9  4.9671    2  242     17.8   \n",
       "2  0.02729   0.0   7.07     0  0.469  7.185  61.1  4.9671    2  242     17.8   \n",
       "3  0.03237   0.0   2.18     0  0.458  6.998  45.8  6.0622    3  222     18.7   \n",
       "4  0.06905   0.0   2.18     0  0.458  7.147  54.2  6.0622    3  222     18.7   \n",
       "\n",
       "   LSTAT  MEDV  CAT. MEDV  \n",
       "0   4.98  24.0          0  \n",
       "1   9.14  21.6          0  \n",
       "2   4.03  34.7          1  \n",
       "3   2.94  33.4          1  \n",
       "4   5.33  36.2          1  "
      ]
     },
     "execution_count": 2,
     "metadata": {},
     "output_type": "execute_result"
    }
   ],
   "source": [
    "# show the first 5 rows of the dataset  \n",
    "boston.head()"
   ]
  },
  {
   "cell_type": "markdown",
   "id": "81891b67",
   "metadata": {},
   "source": [
    "### Chapter 6: Laying Linear Regression Foundations"
   ]
  },
  {
   "cell_type": "code",
   "execution_count": 3,
   "id": "da8d378b",
   "metadata": {},
   "outputs": [],
   "source": [
    "# scale the features and separate the target variable\n",
    "X, y= scale(boston.drop(\"MEDV\", axis=1)), boston[\"MEDV\"]"
   ]
  },
  {
   "cell_type": "code",
   "execution_count": 4,
   "id": "5b0a71c5",
   "metadata": {},
   "outputs": [
    {
     "data": {
      "text/plain": [
       "array([[-0.41978194,  0.28482986, -1.2879095 , ..., -1.45900038,\n",
       "        -1.0755623 , -0.44615259],\n",
       "       [-0.41733926, -0.48772236, -0.59338101, ..., -0.30309415,\n",
       "        -0.49243937, -0.44615259],\n",
       "       [-0.41734159, -0.48772236, -0.59338101, ..., -0.30309415,\n",
       "        -1.2087274 ,  2.24138563],\n",
       "       ...,\n",
       "       [-0.41344658, -0.48772236,  0.11573841, ...,  1.17646583,\n",
       "        -0.98304761, -0.44615259],\n",
       "       [-0.40776407, -0.48772236,  0.11573841, ...,  1.17646583,\n",
       "        -0.86530163, -0.44615259],\n",
       "       [-0.41500016, -0.48772236,  0.11573841, ...,  1.17646583,\n",
       "        -0.66905833, -0.44615259]])"
      ]
     },
     "execution_count": 4,
     "metadata": {},
     "output_type": "execute_result"
    }
   ],
   "source": [
    "# features array\n",
    "X"
   ]
  },
  {
   "cell_type": "code",
   "execution_count": 5,
   "id": "90d86958",
   "metadata": {},
   "outputs": [
    {
     "data": {
      "text/plain": [
       "0      24.0\n",
       "1      21.6\n",
       "2      34.7\n",
       "3      33.4\n",
       "4      36.2\n",
       "       ... \n",
       "501    22.4\n",
       "502    20.6\n",
       "503    23.9\n",
       "504    22.0\n",
       "505    11.9\n",
       "Name: MEDV, Length: 506, dtype: float64"
      ]
     },
     "execution_count": 5,
     "metadata": {},
     "output_type": "execute_result"
    }
   ],
   "source": [
    "# target variable array\n",
    "y"
   ]
  },
  {
   "cell_type": "code",
   "execution_count": 6,
   "id": "1e4a1b68",
   "metadata": {},
   "outputs": [
    {
     "data": {
      "text/html": [
       "<style>#sk-container-id-1 {\n",
       "  /* Definition of color scheme common for light and dark mode */\n",
       "  --sklearn-color-text: #000;\n",
       "  --sklearn-color-text-muted: #666;\n",
       "  --sklearn-color-line: gray;\n",
       "  /* Definition of color scheme for unfitted estimators */\n",
       "  --sklearn-color-unfitted-level-0: #fff5e6;\n",
       "  --sklearn-color-unfitted-level-1: #f6e4d2;\n",
       "  --sklearn-color-unfitted-level-2: #ffe0b3;\n",
       "  --sklearn-color-unfitted-level-3: chocolate;\n",
       "  /* Definition of color scheme for fitted estimators */\n",
       "  --sklearn-color-fitted-level-0: #f0f8ff;\n",
       "  --sklearn-color-fitted-level-1: #d4ebff;\n",
       "  --sklearn-color-fitted-level-2: #b3dbfd;\n",
       "  --sklearn-color-fitted-level-3: cornflowerblue;\n",
       "\n",
       "  /* Specific color for light theme */\n",
       "  --sklearn-color-text-on-default-background: var(--sg-text-color, var(--theme-code-foreground, var(--jp-content-font-color1, black)));\n",
       "  --sklearn-color-background: var(--sg-background-color, var(--theme-background, var(--jp-layout-color0, white)));\n",
       "  --sklearn-color-border-box: var(--sg-text-color, var(--theme-code-foreground, var(--jp-content-font-color1, black)));\n",
       "  --sklearn-color-icon: #696969;\n",
       "\n",
       "  @media (prefers-color-scheme: dark) {\n",
       "    /* Redefinition of color scheme for dark theme */\n",
       "    --sklearn-color-text-on-default-background: var(--sg-text-color, var(--theme-code-foreground, var(--jp-content-font-color1, white)));\n",
       "    --sklearn-color-background: var(--sg-background-color, var(--theme-background, var(--jp-layout-color0, #111)));\n",
       "    --sklearn-color-border-box: var(--sg-text-color, var(--theme-code-foreground, var(--jp-content-font-color1, white)));\n",
       "    --sklearn-color-icon: #878787;\n",
       "  }\n",
       "}\n",
       "\n",
       "#sk-container-id-1 {\n",
       "  color: var(--sklearn-color-text);\n",
       "}\n",
       "\n",
       "#sk-container-id-1 pre {\n",
       "  padding: 0;\n",
       "}\n",
       "\n",
       "#sk-container-id-1 input.sk-hidden--visually {\n",
       "  border: 0;\n",
       "  clip: rect(1px 1px 1px 1px);\n",
       "  clip: rect(1px, 1px, 1px, 1px);\n",
       "  height: 1px;\n",
       "  margin: -1px;\n",
       "  overflow: hidden;\n",
       "  padding: 0;\n",
       "  position: absolute;\n",
       "  width: 1px;\n",
       "}\n",
       "\n",
       "#sk-container-id-1 div.sk-dashed-wrapped {\n",
       "  border: 1px dashed var(--sklearn-color-line);\n",
       "  margin: 0 0.4em 0.5em 0.4em;\n",
       "  box-sizing: border-box;\n",
       "  padding-bottom: 0.4em;\n",
       "  background-color: var(--sklearn-color-background);\n",
       "}\n",
       "\n",
       "#sk-container-id-1 div.sk-container {\n",
       "  /* jupyter's `normalize.less` sets `[hidden] { display: none; }`\n",
       "     but bootstrap.min.css set `[hidden] { display: none !important; }`\n",
       "     so we also need the `!important` here to be able to override the\n",
       "     default hidden behavior on the sphinx rendered scikit-learn.org.\n",
       "     See: https://github.com/scikit-learn/scikit-learn/issues/21755 */\n",
       "  display: inline-block !important;\n",
       "  position: relative;\n",
       "}\n",
       "\n",
       "#sk-container-id-1 div.sk-text-repr-fallback {\n",
       "  display: none;\n",
       "}\n",
       "\n",
       "div.sk-parallel-item,\n",
       "div.sk-serial,\n",
       "div.sk-item {\n",
       "  /* draw centered vertical line to link estimators */\n",
       "  background-image: linear-gradient(var(--sklearn-color-text-on-default-background), var(--sklearn-color-text-on-default-background));\n",
       "  background-size: 2px 100%;\n",
       "  background-repeat: no-repeat;\n",
       "  background-position: center center;\n",
       "}\n",
       "\n",
       "/* Parallel-specific style estimator block */\n",
       "\n",
       "#sk-container-id-1 div.sk-parallel-item::after {\n",
       "  content: \"\";\n",
       "  width: 100%;\n",
       "  border-bottom: 2px solid var(--sklearn-color-text-on-default-background);\n",
       "  flex-grow: 1;\n",
       "}\n",
       "\n",
       "#sk-container-id-1 div.sk-parallel {\n",
       "  display: flex;\n",
       "  align-items: stretch;\n",
       "  justify-content: center;\n",
       "  background-color: var(--sklearn-color-background);\n",
       "  position: relative;\n",
       "}\n",
       "\n",
       "#sk-container-id-1 div.sk-parallel-item {\n",
       "  display: flex;\n",
       "  flex-direction: column;\n",
       "}\n",
       "\n",
       "#sk-container-id-1 div.sk-parallel-item:first-child::after {\n",
       "  align-self: flex-end;\n",
       "  width: 50%;\n",
       "}\n",
       "\n",
       "#sk-container-id-1 div.sk-parallel-item:last-child::after {\n",
       "  align-self: flex-start;\n",
       "  width: 50%;\n",
       "}\n",
       "\n",
       "#sk-container-id-1 div.sk-parallel-item:only-child::after {\n",
       "  width: 0;\n",
       "}\n",
       "\n",
       "/* Serial-specific style estimator block */\n",
       "\n",
       "#sk-container-id-1 div.sk-serial {\n",
       "  display: flex;\n",
       "  flex-direction: column;\n",
       "  align-items: center;\n",
       "  background-color: var(--sklearn-color-background);\n",
       "  padding-right: 1em;\n",
       "  padding-left: 1em;\n",
       "}\n",
       "\n",
       "\n",
       "/* Toggleable style: style used for estimator/Pipeline/ColumnTransformer box that is\n",
       "clickable and can be expanded/collapsed.\n",
       "- Pipeline and ColumnTransformer use this feature and define the default style\n",
       "- Estimators will overwrite some part of the style using the `sk-estimator` class\n",
       "*/\n",
       "\n",
       "/* Pipeline and ColumnTransformer style (default) */\n",
       "\n",
       "#sk-container-id-1 div.sk-toggleable {\n",
       "  /* Default theme specific background. It is overwritten whether we have a\n",
       "  specific estimator or a Pipeline/ColumnTransformer */\n",
       "  background-color: var(--sklearn-color-background);\n",
       "}\n",
       "\n",
       "/* Toggleable label */\n",
       "#sk-container-id-1 label.sk-toggleable__label {\n",
       "  cursor: pointer;\n",
       "  display: flex;\n",
       "  width: 100%;\n",
       "  margin-bottom: 0;\n",
       "  padding: 0.5em;\n",
       "  box-sizing: border-box;\n",
       "  text-align: center;\n",
       "  align-items: start;\n",
       "  justify-content: space-between;\n",
       "  gap: 0.5em;\n",
       "}\n",
       "\n",
       "#sk-container-id-1 label.sk-toggleable__label .caption {\n",
       "  font-size: 0.6rem;\n",
       "  font-weight: lighter;\n",
       "  color: var(--sklearn-color-text-muted);\n",
       "}\n",
       "\n",
       "#sk-container-id-1 label.sk-toggleable__label-arrow:before {\n",
       "  /* Arrow on the left of the label */\n",
       "  content: \"▸\";\n",
       "  float: left;\n",
       "  margin-right: 0.25em;\n",
       "  color: var(--sklearn-color-icon);\n",
       "}\n",
       "\n",
       "#sk-container-id-1 label.sk-toggleable__label-arrow:hover:before {\n",
       "  color: var(--sklearn-color-text);\n",
       "}\n",
       "\n",
       "/* Toggleable content - dropdown */\n",
       "\n",
       "#sk-container-id-1 div.sk-toggleable__content {\n",
       "  display: none;\n",
       "  text-align: left;\n",
       "  /* unfitted */\n",
       "  background-color: var(--sklearn-color-unfitted-level-0);\n",
       "}\n",
       "\n",
       "#sk-container-id-1 div.sk-toggleable__content.fitted {\n",
       "  /* fitted */\n",
       "  background-color: var(--sklearn-color-fitted-level-0);\n",
       "}\n",
       "\n",
       "#sk-container-id-1 div.sk-toggleable__content pre {\n",
       "  margin: 0.2em;\n",
       "  border-radius: 0.25em;\n",
       "  color: var(--sklearn-color-text);\n",
       "  /* unfitted */\n",
       "  background-color: var(--sklearn-color-unfitted-level-0);\n",
       "}\n",
       "\n",
       "#sk-container-id-1 div.sk-toggleable__content.fitted pre {\n",
       "  /* unfitted */\n",
       "  background-color: var(--sklearn-color-fitted-level-0);\n",
       "}\n",
       "\n",
       "#sk-container-id-1 input.sk-toggleable__control:checked~div.sk-toggleable__content {\n",
       "  /* Expand drop-down */\n",
       "  display: block;\n",
       "  width: 100%;\n",
       "  overflow: visible;\n",
       "}\n",
       "\n",
       "#sk-container-id-1 input.sk-toggleable__control:checked~label.sk-toggleable__label-arrow:before {\n",
       "  content: \"▾\";\n",
       "}\n",
       "\n",
       "/* Pipeline/ColumnTransformer-specific style */\n",
       "\n",
       "#sk-container-id-1 div.sk-label input.sk-toggleable__control:checked~label.sk-toggleable__label {\n",
       "  color: var(--sklearn-color-text);\n",
       "  background-color: var(--sklearn-color-unfitted-level-2);\n",
       "}\n",
       "\n",
       "#sk-container-id-1 div.sk-label.fitted input.sk-toggleable__control:checked~label.sk-toggleable__label {\n",
       "  background-color: var(--sklearn-color-fitted-level-2);\n",
       "}\n",
       "\n",
       "/* Estimator-specific style */\n",
       "\n",
       "/* Colorize estimator box */\n",
       "#sk-container-id-1 div.sk-estimator input.sk-toggleable__control:checked~label.sk-toggleable__label {\n",
       "  /* unfitted */\n",
       "  background-color: var(--sklearn-color-unfitted-level-2);\n",
       "}\n",
       "\n",
       "#sk-container-id-1 div.sk-estimator.fitted input.sk-toggleable__control:checked~label.sk-toggleable__label {\n",
       "  /* fitted */\n",
       "  background-color: var(--sklearn-color-fitted-level-2);\n",
       "}\n",
       "\n",
       "#sk-container-id-1 div.sk-label label.sk-toggleable__label,\n",
       "#sk-container-id-1 div.sk-label label {\n",
       "  /* The background is the default theme color */\n",
       "  color: var(--sklearn-color-text-on-default-background);\n",
       "}\n",
       "\n",
       "/* On hover, darken the color of the background */\n",
       "#sk-container-id-1 div.sk-label:hover label.sk-toggleable__label {\n",
       "  color: var(--sklearn-color-text);\n",
       "  background-color: var(--sklearn-color-unfitted-level-2);\n",
       "}\n",
       "\n",
       "/* Label box, darken color on hover, fitted */\n",
       "#sk-container-id-1 div.sk-label.fitted:hover label.sk-toggleable__label.fitted {\n",
       "  color: var(--sklearn-color-text);\n",
       "  background-color: var(--sklearn-color-fitted-level-2);\n",
       "}\n",
       "\n",
       "/* Estimator label */\n",
       "\n",
       "#sk-container-id-1 div.sk-label label {\n",
       "  font-family: monospace;\n",
       "  font-weight: bold;\n",
       "  display: inline-block;\n",
       "  line-height: 1.2em;\n",
       "}\n",
       "\n",
       "#sk-container-id-1 div.sk-label-container {\n",
       "  text-align: center;\n",
       "}\n",
       "\n",
       "/* Estimator-specific */\n",
       "#sk-container-id-1 div.sk-estimator {\n",
       "  font-family: monospace;\n",
       "  border: 1px dotted var(--sklearn-color-border-box);\n",
       "  border-radius: 0.25em;\n",
       "  box-sizing: border-box;\n",
       "  margin-bottom: 0.5em;\n",
       "  /* unfitted */\n",
       "  background-color: var(--sklearn-color-unfitted-level-0);\n",
       "}\n",
       "\n",
       "#sk-container-id-1 div.sk-estimator.fitted {\n",
       "  /* fitted */\n",
       "  background-color: var(--sklearn-color-fitted-level-0);\n",
       "}\n",
       "\n",
       "/* on hover */\n",
       "#sk-container-id-1 div.sk-estimator:hover {\n",
       "  /* unfitted */\n",
       "  background-color: var(--sklearn-color-unfitted-level-2);\n",
       "}\n",
       "\n",
       "#sk-container-id-1 div.sk-estimator.fitted:hover {\n",
       "  /* fitted */\n",
       "  background-color: var(--sklearn-color-fitted-level-2);\n",
       "}\n",
       "\n",
       "/* Specification for estimator info (e.g. \"i\" and \"?\") */\n",
       "\n",
       "/* Common style for \"i\" and \"?\" */\n",
       "\n",
       ".sk-estimator-doc-link,\n",
       "a:link.sk-estimator-doc-link,\n",
       "a:visited.sk-estimator-doc-link {\n",
       "  float: right;\n",
       "  font-size: smaller;\n",
       "  line-height: 1em;\n",
       "  font-family: monospace;\n",
       "  background-color: var(--sklearn-color-background);\n",
       "  border-radius: 1em;\n",
       "  height: 1em;\n",
       "  width: 1em;\n",
       "  text-decoration: none !important;\n",
       "  margin-left: 0.5em;\n",
       "  text-align: center;\n",
       "  /* unfitted */\n",
       "  border: var(--sklearn-color-unfitted-level-1) 1pt solid;\n",
       "  color: var(--sklearn-color-unfitted-level-1);\n",
       "}\n",
       "\n",
       ".sk-estimator-doc-link.fitted,\n",
       "a:link.sk-estimator-doc-link.fitted,\n",
       "a:visited.sk-estimator-doc-link.fitted {\n",
       "  /* fitted */\n",
       "  border: var(--sklearn-color-fitted-level-1) 1pt solid;\n",
       "  color: var(--sklearn-color-fitted-level-1);\n",
       "}\n",
       "\n",
       "/* On hover */\n",
       "div.sk-estimator:hover .sk-estimator-doc-link:hover,\n",
       ".sk-estimator-doc-link:hover,\n",
       "div.sk-label-container:hover .sk-estimator-doc-link:hover,\n",
       ".sk-estimator-doc-link:hover {\n",
       "  /* unfitted */\n",
       "  background-color: var(--sklearn-color-unfitted-level-3);\n",
       "  color: var(--sklearn-color-background);\n",
       "  text-decoration: none;\n",
       "}\n",
       "\n",
       "div.sk-estimator.fitted:hover .sk-estimator-doc-link.fitted:hover,\n",
       ".sk-estimator-doc-link.fitted:hover,\n",
       "div.sk-label-container:hover .sk-estimator-doc-link.fitted:hover,\n",
       ".sk-estimator-doc-link.fitted:hover {\n",
       "  /* fitted */\n",
       "  background-color: var(--sklearn-color-fitted-level-3);\n",
       "  color: var(--sklearn-color-background);\n",
       "  text-decoration: none;\n",
       "}\n",
       "\n",
       "/* Span, style for the box shown on hovering the info icon */\n",
       ".sk-estimator-doc-link span {\n",
       "  display: none;\n",
       "  z-index: 9999;\n",
       "  position: relative;\n",
       "  font-weight: normal;\n",
       "  right: .2ex;\n",
       "  padding: .5ex;\n",
       "  margin: .5ex;\n",
       "  width: min-content;\n",
       "  min-width: 20ex;\n",
       "  max-width: 50ex;\n",
       "  color: var(--sklearn-color-text);\n",
       "  box-shadow: 2pt 2pt 4pt #999;\n",
       "  /* unfitted */\n",
       "  background: var(--sklearn-color-unfitted-level-0);\n",
       "  border: .5pt solid var(--sklearn-color-unfitted-level-3);\n",
       "}\n",
       "\n",
       ".sk-estimator-doc-link.fitted span {\n",
       "  /* fitted */\n",
       "  background: var(--sklearn-color-fitted-level-0);\n",
       "  border: var(--sklearn-color-fitted-level-3);\n",
       "}\n",
       "\n",
       ".sk-estimator-doc-link:hover span {\n",
       "  display: block;\n",
       "}\n",
       "\n",
       "/* \"?\"-specific style due to the `<a>` HTML tag */\n",
       "\n",
       "#sk-container-id-1 a.estimator_doc_link {\n",
       "  float: right;\n",
       "  font-size: 1rem;\n",
       "  line-height: 1em;\n",
       "  font-family: monospace;\n",
       "  background-color: var(--sklearn-color-background);\n",
       "  border-radius: 1rem;\n",
       "  height: 1rem;\n",
       "  width: 1rem;\n",
       "  text-decoration: none;\n",
       "  /* unfitted */\n",
       "  color: var(--sklearn-color-unfitted-level-1);\n",
       "  border: var(--sklearn-color-unfitted-level-1) 1pt solid;\n",
       "}\n",
       "\n",
       "#sk-container-id-1 a.estimator_doc_link.fitted {\n",
       "  /* fitted */\n",
       "  border: var(--sklearn-color-fitted-level-1) 1pt solid;\n",
       "  color: var(--sklearn-color-fitted-level-1);\n",
       "}\n",
       "\n",
       "/* On hover */\n",
       "#sk-container-id-1 a.estimator_doc_link:hover {\n",
       "  /* unfitted */\n",
       "  background-color: var(--sklearn-color-unfitted-level-3);\n",
       "  color: var(--sklearn-color-background);\n",
       "  text-decoration: none;\n",
       "}\n",
       "\n",
       "#sk-container-id-1 a.estimator_doc_link.fitted:hover {\n",
       "  /* fitted */\n",
       "  background-color: var(--sklearn-color-fitted-level-3);\n",
       "}\n",
       "\n",
       ".estimator-table summary {\n",
       "    padding: .5rem;\n",
       "    font-family: monospace;\n",
       "    cursor: pointer;\n",
       "}\n",
       "\n",
       ".estimator-table details[open] {\n",
       "    padding-left: 0.1rem;\n",
       "    padding-right: 0.1rem;\n",
       "    padding-bottom: 0.3rem;\n",
       "}\n",
       "\n",
       ".estimator-table .parameters-table {\n",
       "    margin-left: auto !important;\n",
       "    margin-right: auto !important;\n",
       "}\n",
       "\n",
       ".estimator-table .parameters-table tr:nth-child(odd) {\n",
       "    background-color: #fff;\n",
       "}\n",
       "\n",
       ".estimator-table .parameters-table tr:nth-child(even) {\n",
       "    background-color: #f6f6f6;\n",
       "}\n",
       "\n",
       ".estimator-table .parameters-table tr:hover {\n",
       "    background-color: #e0e0e0;\n",
       "}\n",
       "\n",
       ".estimator-table table td {\n",
       "    border: 1px solid rgba(106, 105, 104, 0.232);\n",
       "}\n",
       "\n",
       ".user-set td {\n",
       "    color:rgb(255, 94, 0);\n",
       "    text-align: left;\n",
       "}\n",
       "\n",
       ".user-set td.value pre {\n",
       "    color:rgb(255, 94, 0) !important;\n",
       "    background-color: transparent !important;\n",
       "}\n",
       "\n",
       ".default td {\n",
       "    color: black;\n",
       "    text-align: left;\n",
       "}\n",
       "\n",
       ".user-set td i,\n",
       ".default td i {\n",
       "    color: black;\n",
       "}\n",
       "\n",
       ".copy-paste-icon {\n",
       "    background-image: url(data:image/svg+xml;base64,PHN2ZyB4bWxucz0iaHR0cDovL3d3dy53My5vcmcvMjAwMC9zdmciIHZpZXdCb3g9IjAgMCA0NDggNTEyIj48IS0tIUZvbnQgQXdlc29tZSBGcmVlIDYuNy4yIGJ5IEBmb250YXdlc29tZSAtIGh0dHBzOi8vZm9udGF3ZXNvbWUuY29tIExpY2Vuc2UgLSBodHRwczovL2ZvbnRhd2Vzb21lLmNvbS9saWNlbnNlL2ZyZWUgQ29weXJpZ2h0IDIwMjUgRm9udGljb25zLCBJbmMuLS0+PHBhdGggZD0iTTIwOCAwTDMzMi4xIDBjMTIuNyAwIDI0LjkgNS4xIDMzLjkgMTQuMWw2Ny45IDY3LjljOSA5IDE0LjEgMjEuMiAxNC4xIDMzLjlMNDQ4IDMzNmMwIDI2LjUtMjEuNSA0OC00OCA0OGwtMTkyIDBjLTI2LjUgMC00OC0yMS41LTQ4LTQ4bDAtMjg4YzAtMjYuNSAyMS41LTQ4IDQ4LTQ4ek00OCAxMjhsODAgMCAwIDY0LTY0IDAgMCAyNTYgMTkyIDAgMC0zMiA2NCAwIDAgNDhjMCAyNi41LTIxLjUgNDgtNDggNDhMNDggNTEyYy0yNi41IDAtNDgtMjEuNS00OC00OEwwIDE3NmMwLTI2LjUgMjEuNS00OCA0OC00OHoiLz48L3N2Zz4=);\n",
       "    background-repeat: no-repeat;\n",
       "    background-size: 14px 14px;\n",
       "    background-position: 0;\n",
       "    display: inline-block;\n",
       "    width: 14px;\n",
       "    height: 14px;\n",
       "    cursor: pointer;\n",
       "}\n",
       "</style><body><div id=\"sk-container-id-1\" class=\"sk-top-container\"><div class=\"sk-text-repr-fallback\"><pre>LinearRegression()</pre><b>In a Jupyter environment, please rerun this cell to show the HTML representation or trust the notebook. <br />On GitHub, the HTML representation is unable to render, please try loading this page with nbviewer.org.</b></div><div class=\"sk-container\" hidden><div class=\"sk-item\"><div class=\"sk-estimator fitted sk-toggleable\"><input class=\"sk-toggleable__control sk-hidden--visually\" id=\"sk-estimator-id-1\" type=\"checkbox\" checked><label for=\"sk-estimator-id-1\" class=\"sk-toggleable__label fitted sk-toggleable__label-arrow\"><div><div>LinearRegression</div></div><div><a class=\"sk-estimator-doc-link fitted\" rel=\"noreferrer\" target=\"_blank\" href=\"https://scikit-learn.org/1.7/modules/generated/sklearn.linear_model.LinearRegression.html\">?<span>Documentation for LinearRegression</span></a><span class=\"sk-estimator-doc-link fitted\">i<span>Fitted</span></span></div></label><div class=\"sk-toggleable__content fitted\" data-param-prefix=\"\">\n",
       "        <div class=\"estimator-table\">\n",
       "            <details>\n",
       "                <summary>Parameters</summary>\n",
       "                <table class=\"parameters-table\">\n",
       "                  <tbody>\n",
       "                    \n",
       "        <tr class=\"default\">\n",
       "            <td><i class=\"copy-paste-icon\"\n",
       "                 onclick=\"copyToClipboard('fit_intercept',\n",
       "                          this.parentElement.nextElementSibling)\"\n",
       "            ></i></td>\n",
       "            <td class=\"param\">fit_intercept&nbsp;</td>\n",
       "            <td class=\"value\">True</td>\n",
       "        </tr>\n",
       "    \n",
       "\n",
       "        <tr class=\"default\">\n",
       "            <td><i class=\"copy-paste-icon\"\n",
       "                 onclick=\"copyToClipboard('copy_X',\n",
       "                          this.parentElement.nextElementSibling)\"\n",
       "            ></i></td>\n",
       "            <td class=\"param\">copy_X&nbsp;</td>\n",
       "            <td class=\"value\">True</td>\n",
       "        </tr>\n",
       "    \n",
       "\n",
       "        <tr class=\"default\">\n",
       "            <td><i class=\"copy-paste-icon\"\n",
       "                 onclick=\"copyToClipboard('tol',\n",
       "                          this.parentElement.nextElementSibling)\"\n",
       "            ></i></td>\n",
       "            <td class=\"param\">tol&nbsp;</td>\n",
       "            <td class=\"value\">1e-06</td>\n",
       "        </tr>\n",
       "    \n",
       "\n",
       "        <tr class=\"default\">\n",
       "            <td><i class=\"copy-paste-icon\"\n",
       "                 onclick=\"copyToClipboard('n_jobs',\n",
       "                          this.parentElement.nextElementSibling)\"\n",
       "            ></i></td>\n",
       "            <td class=\"param\">n_jobs&nbsp;</td>\n",
       "            <td class=\"value\">None</td>\n",
       "        </tr>\n",
       "    \n",
       "\n",
       "        <tr class=\"default\">\n",
       "            <td><i class=\"copy-paste-icon\"\n",
       "                 onclick=\"copyToClipboard('positive',\n",
       "                          this.parentElement.nextElementSibling)\"\n",
       "            ></i></td>\n",
       "            <td class=\"param\">positive&nbsp;</td>\n",
       "            <td class=\"value\">False</td>\n",
       "        </tr>\n",
       "    \n",
       "                  </tbody>\n",
       "                </table>\n",
       "            </details>\n",
       "        </div>\n",
       "    </div></div></div></div></div><script>function copyToClipboard(text, element) {\n",
       "    // Get the parameter prefix from the closest toggleable content\n",
       "    const toggleableContent = element.closest('.sk-toggleable__content');\n",
       "    const paramPrefix = toggleableContent ? toggleableContent.dataset.paramPrefix : '';\n",
       "    const fullParamName = paramPrefix ? `${paramPrefix}${text}` : text;\n",
       "\n",
       "    const originalStyle = element.style;\n",
       "    const computedStyle = window.getComputedStyle(element);\n",
       "    const originalWidth = computedStyle.width;\n",
       "    const originalHTML = element.innerHTML.replace('Copied!', '');\n",
       "\n",
       "    navigator.clipboard.writeText(fullParamName)\n",
       "        .then(() => {\n",
       "            element.style.width = originalWidth;\n",
       "            element.style.color = 'green';\n",
       "            element.innerHTML = \"Copied!\";\n",
       "\n",
       "            setTimeout(() => {\n",
       "                element.innerHTML = originalHTML;\n",
       "                element.style = originalStyle;\n",
       "            }, 2000);\n",
       "        })\n",
       "        .catch(err => {\n",
       "            console.error('Failed to copy:', err);\n",
       "            element.style.color = 'red';\n",
       "            element.innerHTML = \"Failed!\";\n",
       "            setTimeout(() => {\n",
       "                element.innerHTML = originalHTML;\n",
       "                element.style = originalStyle;\n",
       "            }, 2000);\n",
       "        });\n",
       "    return false;\n",
       "}\n",
       "\n",
       "document.querySelectorAll('.fa-regular.fa-copy').forEach(function(element) {\n",
       "    const toggleableContent = element.closest('.sk-toggleable__content');\n",
       "    const paramPrefix = toggleableContent ? toggleableContent.dataset.paramPrefix : '';\n",
       "    const paramName = element.parentElement.nextElementSibling.textContent.trim();\n",
       "    const fullParamName = paramPrefix ? `${paramPrefix}${paramName}` : paramName;\n",
       "\n",
       "    element.setAttribute('title', fullParamName);\n",
       "});\n",
       "</script></body>"
      ],
      "text/plain": [
       "LinearRegression()"
      ]
     },
     "execution_count": 6,
     "metadata": {},
     "output_type": "execute_result"
    }
   ],
   "source": [
    "# train the linear regression model\n",
    "regression = LinearRegression()\n",
    "regression.fit(X, y)"
   ]
  },
  {
   "cell_type": "code",
   "execution_count": 7,
   "id": "e29343d5",
   "metadata": {},
   "outputs": [
    {
     "name": "stdout",
     "output_type": "stream",
     "text": [
      "R2 0.842\n"
     ]
    }
   ],
   "source": [
    "print('R2 %0.3f' % regression.score(X, y))"
   ]
  },
  {
   "cell_type": "code",
   "execution_count": 8,
   "id": "70ab20c2",
   "metadata": {},
   "outputs": [
    {
     "name": "stdout",
     "output_type": "stream",
     "text": [
      "['CRIM:-1.1', 'ZN:-0.1', 'INDUS:0.8', 'CHAS:0.6', 'NOX:-1.8', 'RM:0.7', 'AGE:-0.2', 'DIS:-1.5', 'RAD:1.8', 'TAX:-1.6', 'PTRATIO:-1.2', 'LSTAT:-3.4', 'MEDV:4.4']\n"
     ]
    }
   ],
   "source": [
    "print([a + ':' + str(round(b, 1)) for a, b in zip(boston.columns[:-1], regression.coef_)])"
   ]
  },
  {
   "cell_type": "code",
   "execution_count": 9,
   "id": "383390cc",
   "metadata": {},
   "outputs": [
    {
     "name": "stdout",
     "output_type": "stream",
     "text": [
      "Label Encoding: \n",
      " [[2]\n",
      " [2]\n",
      " [1]\n",
      " [0]\n",
      " [2]\n",
      " [0]\n",
      " [0]\n",
      " [1]]\n",
      "One Hot Encoding: \n",
      " [[0. 0. 1.]\n",
      " [0. 0. 1.]\n",
      " [0. 1. 0.]\n",
      " [1. 0. 0.]\n",
      " [0. 0. 1.]\n",
      " [1. 0. 0.]\n",
      " [1. 0. 0.]\n",
      " [0. 1. 0.]]\n"
     ]
    }
   ],
   "source": [
    "# Label Encoding vs One Hot Encoding for categorical variables\n",
    "lbl = LabelEncoder()\n",
    "enc = OneHotEncoder()\n",
    "qualititative = ['red', 'red', 'green', 'blue', 'red', 'blue', 'blue', 'green']\n",
    "labels = lbl.fit_transform(qualititative).reshape(8, 1)\n",
    "print(\"Label Encoding: \\n\" , labels)\n",
    "print(\"One Hot Encoding: \\n\", enc.fit_transform(labels).toarray())"
   ]
  },
  {
   "cell_type": "code",
   "execution_count": 10,
   "id": "265d379e",
   "metadata": {},
   "outputs": [
    {
     "name": "stdout",
     "output_type": "stream",
     "text": [
      "R2: 0.902\n"
     ]
    }
   ],
   "source": [
    "# using Polynomial Features\n",
    "pf = PolynomialFeatures(degree = 2)\n",
    "poly_X = pf.fit_transform(X)\n",
    "\n",
    "# splitting the dataset into training and testing sets\n",
    "X_train, X_test, y_train, y_test = train_test_split(poly_X, y, test_size = 0.33, random_state = 42)\n",
    "# training the model with polynomial features\n",
    "reg_regression = Ridge(alpha=0.1)\n",
    "reg_regression.fit(X_train, y_train)\n",
    "print('R2: %0.3f' % r2_score(y_test, reg_regression.predict(X_test)))"
   ]
  },
  {
   "cell_type": "code",
   "execution_count": 11,
   "id": "e928cc6d",
   "metadata": {},
   "outputs": [
    {
     "name": "stdout",
     "output_type": "stream",
     "text": [
      "[False False False False  True  True  True  True]\n"
     ]
    }
   ],
   "source": [
    "# classification example with binary response\n",
    "a = np.array([0, 0, 0, 0, 1, 1, 1, 1])\n",
    "b = np.array([1, 2, 3, 4, 5, 6, 7, 8]).reshape(8, 1)\n",
    "regression = LinearRegression()\n",
    "regression.fit(b, a)\n",
    "print(regression.predict(b) > 0.5)"
   ]
  },
  {
   "cell_type": "code",
   "execution_count": 12,
   "id": "b4cd515c",
   "metadata": {},
   "outputs": [
    {
     "name": "stdout",
     "output_type": "stream",
     "text": [
      "In-sample accuracy: 0.976\n",
      "Out-of-sample accuracy: 0.982\n"
     ]
    }
   ],
   "source": [
    "# using logistic regression for binary classification\n",
    "binary_y = np.array(y >= 40).astype(int)\n",
    "X_train, X_test, y_train, y_test = train_test_split(X, binary_y, test_size = 0.33, random_state = 42)\n",
    "logistic = LogisticRegression()\n",
    "logistic.fit(X_train, y_train)\n",
    "print('In-sample accuracy: %0.3f' % accuracy_score(y_train, logistic.predict(X_train)))\n",
    "print('Out-of-sample accuracy: %0.3f' % accuracy_score(y_test, logistic.predict(X_test)))"
   ]
  },
  {
   "cell_type": "code",
   "execution_count": 13,
   "id": "0171d121",
   "metadata": {},
   "outputs": [
    {
     "name": "stdout",
     "output_type": "stream",
     "text": [
      "   CRIM :   0.209\n",
      "     ZN :  -0.062\n",
      "  INDUS :   1.034\n",
      "   CHAS :   0.131\n",
      "    NOX :   0.196\n",
      "     RM :   1.103\n",
      "    AGE :  -0.528\n",
      "    DIS :  -0.584\n",
      "    RAD :   0.626\n",
      "    TAX :   0.271\n",
      "PTRATIO :  -0.383\n",
      "  LSTAT :  -1.466\n",
      "   MEDV :   2.027\n"
     ]
    }
   ],
   "source": [
    "# coefficients of the logistic regression model\n",
    "for idx, coef in enumerate(logistic.coef_[0]):\n",
    "    print(f\"%7s : %7.3f\" % (boston.columns[idx], coef))"
   ]
  },
  {
   "cell_type": "code",
   "execution_count": 14,
   "id": "48741913",
   "metadata": {},
   "outputs": [
    {
     "name": "stdout",
     "output_type": "stream",
     "text": [
      "\n",
      "classes: [0 1]\n",
      "\n",
      "Probs:\n",
      " [[0.9999 0.0001]\n",
      " [0.7039 0.2961]\n",
      " [0.9996 0.0004]]\n"
     ]
    }
   ],
   "source": [
    "print('\\nclasses:', logistic.classes_)\n",
    "np.set_printoptions(precision=2, suppress=True)\n",
    "np.set_printoptions(precision=4, suppress=True)\n",
    "print('\\nProbs:\\n', logistic.predict_proba(X_test)[:3, :])"
   ]
  },
  {
   "cell_type": "code",
   "execution_count": 15,
   "id": "399aa0e2",
   "metadata": {},
   "outputs": [
    {
     "name": "stdout",
     "output_type": "stream",
     "text": [
      "Random features: 1 -> R2: 0.848\n",
      "Random features: 2 -> R2: 0.849\n",
      "Random features: 4 -> R2: 0.849\n",
      "Random features: 8 -> R2: 0.852\n",
      "Random features: 16 -> R2: 0.853\n",
      "Random features: 32 -> R2: 0.858\n",
      "Random features: 64 -> R2: 0.871\n",
      "Random features: 128 -> R2: 0.899\n"
     ]
    }
   ],
   "source": [
    "# defining the outcome of incompatible features\n",
    "X_train, X_test, y_train, y_test = train_test_split(X, y, test_size = 0.33, random_state = 42)\n",
    "check = [2 ** i for i in range(8)]\n",
    "for i in range(2 ** 7 + 1):\n",
    "    X_train = np.column_stack((X_train, np.random.random(X_train.shape[0])))\n",
    "    X_test = np.column_stack((X_test, np.random.random(X_test.shape[0])))\n",
    "    regression.fit(X_train, y_train)\n",
    "    if i in check:\n",
    "        print(\"Random features: %i -> R2: %0.3f\" % (i, r2_score(y_train, regression.predict(X_train))))"
   ]
  },
  {
   "cell_type": "code",
   "execution_count": 16,
   "id": "2a04218c",
   "metadata": {},
   "outputs": [
    {
     "name": "stdout",
     "output_type": "stream",
     "text": [
      "R2: 0.902\n"
     ]
    }
   ],
   "source": [
    "# polynomial expansions uing L2 Ridge regularization\n",
    "pf = PolynomialFeatures(degree = 2)\n",
    "poly_X = pf.fit_transform(X)\n",
    "X_train, X_test, y_train, y_test = train_test_split(poly_X, y, test_size = 0.33, random_state = 42)\n",
    "\n",
    "reg_regression = Ridge(alpha = 0.1)\n",
    "reg_regression.fit(X_train, y_train)\n",
    "print('R2: %0.3f' % r2_score(y_test, reg_regression.predict(X_test)))"
   ]
  },
  {
   "cell_type": "code",
   "execution_count": 17,
   "id": "bad139c2",
   "metadata": {},
   "outputs": [
    {
     "name": "stdout",
     "output_type": "stream",
     "text": [
      "Example      1 R2 -6.264 coef: 0.112 -0.071 0.148 -0.040 0.075 -0.021 0.146 -0.113 0.243 0.224 0.118 0.110 -0.065\n",
      "Example      2 R2 -6.185 coef: 0.065 -0.139 0.088 -0.078 0.055 -0.114 0.253 -0.054 0.154 0.140 0.281 0.152 -0.127\n",
      "Example      4 R2 -6.105 coef: -0.074 -0.195 0.319 -0.171 0.064 -0.206 0.527 0.048 -0.040 0.266 0.075 0.353 -0.280\n",
      "Example      8 R2 -5.792 coef: -0.250 -0.507 0.614 -0.345 0.101 0.011 0.813 -0.309 -0.095 0.333 -0.076 0.018 0.116\n",
      "Example     16 R2 -5.155 coef: -0.442 -0.434 0.309 -0.575 0.008 0.002 0.528 -0.435 -0.277 0.297 -0.556 -0.061 0.273\n",
      "Example     32 R2 -4.457 coef: -0.560 -0.326 0.447 1.212 0.055 0.289 0.399 -0.576 0.043 0.623 -0.369 -0.492 0.973\n",
      "Example     64 R2 -2.931 coef: -0.953 0.316 0.174 1.661 -0.400 1.475 -0.389 -0.224 -0.029 0.463 -1.123 -1.765 2.878\n",
      "Example    128 R2 -1.746 coef: -0.553 0.649 0.255 1.198 -0.563 1.515 -0.260 -0.173 -0.304 0.099 -1.791 -1.813 2.813\n",
      "Example    256 R2 -0.526 coef: -0.860 0.318 0.073 1.332 -0.789 2.297 -0.317 -0.349 -0.403 -0.182 -1.857 -2.360 3.495\n",
      "Example    512 R2 0.365 coef: -0.830 -0.035 0.433 1.200 -0.651 1.902 -0.178 -0.785 -0.111 0.116 -1.675 -2.482 3.823\n",
      "Example   1024 R2 0.731 coef: -1.012 -0.370 0.529 0.999 -0.881 1.765 -0.344 -0.820 -0.023 0.097 -1.407 -2.773 3.859\n",
      "Example   2048 R2 0.801 coef: -1.046 -0.608 0.619 0.874 -1.155 1.362 -0.485 -0.952 0.132 0.009 -1.162 -3.073 4.115\n",
      "Example   4096 R2 0.804 coef: -1.060 -0.749 0.726 0.833 -1.353 0.955 -0.505 -1.083 0.333 -0.125 -1.051 -3.286 4.382\n",
      "Example   8192 R2 0.806 coef: -1.088 -0.769 0.802 0.807 -1.509 0.774 -0.497 -1.107 0.564 -0.352 -1.068 -3.432 4.525\n",
      "Example  16384 R2 0.807 coef: -1.120 -0.743 0.892 0.766 -1.581 0.613 -0.461 -1.116 0.812 -0.629 -1.094 -3.487 4.535\n",
      "Example  32768 R2 0.811 coef: -1.144 -0.660 0.904 0.810 -1.653 0.681 -0.470 -1.119 1.005 -0.922 -1.128 -3.563 4.609\n",
      "Example  65536 R2 0.811 coef: -1.156 -0.676 1.011 0.754 -1.623 0.599 -0.427 -1.142 1.171 -1.019 -1.114 -3.509 4.538\n",
      "Example 131072 R2 0.812 coef: -1.162 -0.636 0.974 0.792 -1.655 0.661 -0.454 -1.136 1.184 -1.102 -1.123 -3.562 4.596\n"
     ]
    }
   ],
   "source": [
    "# using SGDRegressor for more unseen data\n",
    "X_train, X_test, y_train, y_test = train_test_split(X, y, test_size = 0.33, random_state = 42)\n",
    "SGD = SGDRegressor(penalty = None, learning_rate = 'invscaling', eta0 = 0.01, max_iter = 5, tol = None)\n",
    "\n",
    "power = 17\n",
    "check = [2 ** i for i in range(power + 1)]\n",
    "for i in range(400):\n",
    "    for j in range(X_train.shape[0]):\n",
    "        SGD.partial_fit(X_train[j, :].reshape(1, 13), np.array([y_train.iloc[j]]))\n",
    "        count = (j + 1) + X_train.shape[0] * i\n",
    "        if count in check:\n",
    "            R2 = r2_score(y_test, SGD.predict(X_test))\n",
    "            print(\"Example %6i R2 %0.3f coef: %s\" % (count, R2, ' '.join(map(lambda x: '%0.3f' % x, SGD.coef_))))"
   ]
  },
  {
   "cell_type": "markdown",
   "id": "d2e43fa5",
   "metadata": {},
   "source": [
    "### Chapter 8: Building a Basic Neural Network"
   ]
  },
  {
   "cell_type": "code",
   "execution_count": 18,
   "id": "81d3b1f4",
   "metadata": {},
   "outputs": [],
   "source": [
    "# defining a neural network with one input layer, one hidden layer with 3 neurons, and one output layer for binary classification\n",
    "def init(inp, out):\n",
    "    return np.random.randn(inp, out) / np.sqrt(inp)\n",
    "\n",
    "def create_architecture(input_layer, first_layer, output_layer, random_seed = 0):\n",
    "    np.random.seed(random_seed)\n",
    "    layers = X.shape[1], 3, 1\n",
    "    arch = list(zip(layers[:-1], layers[1:]))\n",
    "    weights = [init(inp, out) for inp, out in arch]\n",
    "    return weights\n",
    "\n",
    "def sigmoid(z):\n",
    "    return 1 / (1 + np.exp(-z))\n",
    "\n",
    "def sigmoid_prime(s):\n",
    "    return s * (1 - s)\n",
    "\n",
    "def feed_forward(X, weights):\n",
    "    a = X.copy()\n",
    "    out = list()\n",
    "    for W in weights:\n",
    "        z = np.dot(a, W)\n",
    "        a = sigmoid(z)\n",
    "        out.append(a)\n",
    "    return out\n",
    "\n",
    "def accuracy(true_label, predicted):\n",
    "    correct_preds = np.ravel(predicted) == true_label\n",
    "    return np.sum(correct_preds) / len(true_label)\n",
    "\n",
    "def backpropagation(l1, l2, weights, y):\n",
    "    l2_error = y.reshape(-1, 1) - l2\n",
    "    l2_delta = l2_error * sigmoid_prime(l2)\n",
    "    l1_error = l2_delta.dot(weights[1].T)\n",
    "    l1_delta = l1_error * sigmoid_prime(l1)\n",
    "    return l2_error, l1_delta, l2_delta\n",
    "\n",
    "def update_weights(X, l1, l1_delta, l2_delta, weights, alpha = 1.0):\n",
    "    weights[1] = weights[1] + (alpha * l1.T.dot(l2_delta))\n",
    "    weights[0] = weights[0] + (alpha * X.T.dot(l1_delta))\n",
    "    return weights\n",
    "def predict(X, weights):\n",
    "    _, l2 = feed_forward(X, weights)\n",
    "    preds = np.ravel((l2 > 0.5).astype(int))\n",
    "    return preds"
   ]
  },
  {
   "cell_type": "code",
   "execution_count": 19,
   "id": "f462918c",
   "metadata": {},
   "outputs": [
    {
     "data": {
      "image/png": "[encoded data removed]",
      "text/plain": [
       "<Figure size 640x480 with 1 Axes>"
      ]
     },
     "metadata": {},
     "output_type": "display_data"
    }
   ],
   "source": [
    "# solving a simple problem with a neural network\n",
    "np.random.seed(0)\n",
    "coord, cl = make_moons(n_samples = 300, noise = 0.05)\n",
    "X, Xt, y, yt = train_test_split(coord, cl, test_size = 0.30, random_state = 0)\n",
    "\n",
    "plt.scatter(X[:, 0], X[:, 1], c = y, s = 25, cmap = plt.cm.Set1)\n",
    "plt.show()"
   ]
  },
  {
   "cell_type": "code",
   "execution_count": 20,
   "id": "7f084bc1",
   "metadata": {},
   "outputs": [
    {
     "name": "stdout",
     "output_type": "stream",
     "text": [
      "Epoch     0 - error: 0.5077 - acc: train 0.462 | test 0.656\n",
      "Epoch  5000 - error: 0.0991 - acc: train 0.952 | test 0.944\n",
      "Epoch 10000 - error: 0.0872 - acc: train 0.952 | test 0.944\n",
      "Epoch 15000 - error: 0.0803 - acc: train 0.962 | test 0.956\n",
      "Epoch 20000 - error: 0.0761 - acc: train 0.967 | test 0.956\n",
      "Epoch 25000 - error: 0.0736 - acc: train 0.971 | test 0.967\n",
      "Epoch 30000 - error: 0.0683 - acc: train 0.967 | test 0.944\n"
     ]
    }
   ],
   "source": [
    "# perform training of the neural network\n",
    "weights = create_architecture(X, 3, 1)\n",
    "for j in range(30000 + 1 ):\n",
    "\n",
    "    # first feed forward through the hidden layer\n",
    "    l1, l2 = feed_forward(X, weights)\n",
    "\n",
    "    # then, error backpropagation from output to input\n",
    "    l2_error, l1_delta, l2_delta = backpropagation(l1, l2, weights, y)\n",
    "\n",
    "    # finally, update the weights of the network\n",
    "    weights = update_weights(X, l1, l1_delta, l2_delta, weights, alpha = 0.05)\n",
    "\n",
    "    # from time to time, reporting the results\n",
    "    if (j % 5000 == 0):\n",
    "        train_error = np.mean(np.abs(l2_error))\n",
    "        print('Epoch {:5}'.format(j), end = ' - ')\n",
    "        print('error: {:0.4f}'.format(train_error), end = ' - ')\n",
    "        train_accuracy = accuracy(true_label = y, predicted = (l2 > 0.5))\n",
    "        test_preds = predict(Xt, weights)\n",
    "        test_accuracy = accuracy(true_label = yt, predicted = test_preds)\n",
    "        print('acc: train {:0.3f}'.format(train_accuracy), end = ' | ')\n",
    "        print('test {:0.3f}'.format(test_accuracy))"
   ]
  },
  {
   "cell_type": "markdown",
   "id": "044cc579",
   "metadata": {},
   "source": [
    "### Chapter 10. Explaining Convolutional Neural Networks"
   ]
  },
  {
   "cell_type": "code",
   "execution_count": 21,
   "id": "e320db6b",
   "metadata": {},
   "outputs": [],
   "source": [
    "# building your own LeNet5 network\n",
    "import keras\n",
    "import numpy as np\n",
    "from keras.datasets import mnist\n",
    "from keras.models import Sequential\n",
    "from keras.layers import Conv2D, AveragePooling2D, Flatten, Dense\n",
    "from keras.losses import categorical_crossentropy"
   ]
  },
  {
   "cell_type": "code",
   "execution_count": 22,
   "id": "990f8067",
   "metadata": {},
   "outputs": [],
   "source": [
    "# collect the data\n",
    "(X_train, y_train), (X_test, y_test) = mnist.load_data()"
   ]
  },
  {
   "cell_type": "code",
   "execution_count": 23,
   "id": "0690ee4e",
   "metadata": {},
   "outputs": [
    {
     "name": "stdout",
     "output_type": "stream",
     "text": [
      "5 => [0. 0. 0. 0. 0. 1. 0. 0. 0. 0.]\n"
     ]
    }
   ],
   "source": [
    "# convert the target variable to categorical from 0 to 9\n",
    "num_classes = len(np.unique(y_train))   \n",
    "print(y_train[0], end = ' => ')\n",
    "y_train = keras.utils.to_categorical(y_train, num_classes)\n",
    "y_test = keras.utils.to_categorical(y_test, num_classes)\n",
    "print(y_train[0])"
   ]
  },
  {
   "cell_type": "code",
   "execution_count": 24,
   "id": "5f0c32f0",
   "metadata": {},
   "outputs": [],
   "source": [
    "# preparing the training and test data\n",
    "X_train = X_train.astype('float32') / 255.0\n",
    "X_test = X_test.astype('float32') / 255.0\n",
    "img_rows, img_cols = X_train.shape[1:]\n",
    "X_train = X_train.reshape(len(X_train), img_rows, img_cols, 1)\n",
    "X_test = X_test.reshape(len(X_test), img_rows, img_cols, 1)\n",
    "input_shape = (img_rows, img_cols, 1)"
   ]
  },
  {
   "cell_type": "code",
   "execution_count": 25,
   "id": "100fc5df",
   "metadata": {},
   "outputs": [
    {
     "name": "stderr",
     "output_type": "stream",
     "text": [
      "/opt/homebrew/lib/python3.11/site-packages/keras/src/layers/convolutional/base_conv.py:113: UserWarning: Do not pass an `input_shape`/`input_dim` argument to a layer. When using Sequential models, prefer using an `Input(shape)` object as the first layer in the model instead.\n",
      "  super().__init__(activity_regularizer=activity_regularizer, **kwargs)\n"
     ]
    },
    {
     "data": {
      "text/html": [
       "<pre style=\"white-space:pre;overflow-x:auto;line-height:normal;font-family:Menlo,'DejaVu Sans Mono',consolas,'Courier New',monospace\"><span style=\"font-weight: bold\">Model: \"sequential\"</span>\n",
       "</pre>\n"
      ],
      "text/plain": [
       "\u001b[1mModel: \"sequential\"\u001b[0m\n"
      ]
     },
     "metadata": {},
     "output_type": "display_data"
    },
    {
     "data": {
      "text/html": [
       "<pre style=\"white-space:pre;overflow-x:auto;line-height:normal;font-family:Menlo,'DejaVu Sans Mono',consolas,'Courier New',monospace\">┏━━━━━━━━━━━━━━━━━━━━━━━━━━━━━━━━━┳━━━━━━━━━━━━━━━━━━━━━━━━┳━━━━━━━━━━━━━━━┓\n",
       "┃<span style=\"font-weight: bold\"> Layer (type)                    </span>┃<span style=\"font-weight: bold\"> Output Shape           </span>┃<span style=\"font-weight: bold\">       Param # </span>┃\n",
       "┡━━━━━━━━━━━━━━━━━━━━━━━━━━━━━━━━━╇━━━━━━━━━━━━━━━━━━━━━━━━╇━━━━━━━━━━━━━━━┩\n",
       "│ C1 (<span style=\"color: #0087ff; text-decoration-color: #0087ff\">Conv2D</span>)                     │ (<span style=\"color: #00d7ff; text-decoration-color: #00d7ff\">None</span>, <span style=\"color: #00af00; text-decoration-color: #00af00\">28</span>, <span style=\"color: #00af00; text-decoration-color: #00af00\">28</span>, <span style=\"color: #00af00; text-decoration-color: #00af00\">6</span>)      │           <span style=\"color: #00af00; text-decoration-color: #00af00\">156</span> │\n",
       "├─────────────────────────────────┼────────────────────────┼───────────────┤\n",
       "│ average_pooling2d               │ (<span style=\"color: #00d7ff; text-decoration-color: #00d7ff\">None</span>, <span style=\"color: #00af00; text-decoration-color: #00af00\">27</span>, <span style=\"color: #00af00; text-decoration-color: #00af00\">27</span>, <span style=\"color: #00af00; text-decoration-color: #00af00\">6</span>)      │             <span style=\"color: #00af00; text-decoration-color: #00af00\">0</span> │\n",
       "│ (<span style=\"color: #0087ff; text-decoration-color: #0087ff\">AveragePooling2D</span>)              │                        │               │\n",
       "├─────────────────────────────────┼────────────────────────┼───────────────┤\n",
       "│ conv2d (<span style=\"color: #0087ff; text-decoration-color: #0087ff\">Conv2D</span>)                 │ (<span style=\"color: #00d7ff; text-decoration-color: #00d7ff\">None</span>, <span style=\"color: #00af00; text-decoration-color: #00af00\">23</span>, <span style=\"color: #00af00; text-decoration-color: #00af00\">23</span>, <span style=\"color: #00af00; text-decoration-color: #00af00\">16</span>)     │         <span style=\"color: #00af00; text-decoration-color: #00af00\">2,416</span> │\n",
       "├─────────────────────────────────┼────────────────────────┼───────────────┤\n",
       "│ average_pooling2d_1             │ (<span style=\"color: #00d7ff; text-decoration-color: #00d7ff\">None</span>, <span style=\"color: #00af00; text-decoration-color: #00af00\">22</span>, <span style=\"color: #00af00; text-decoration-color: #00af00\">22</span>, <span style=\"color: #00af00; text-decoration-color: #00af00\">16</span>)     │             <span style=\"color: #00af00; text-decoration-color: #00af00\">0</span> │\n",
       "│ (<span style=\"color: #0087ff; text-decoration-color: #0087ff\">AveragePooling2D</span>)              │                        │               │\n",
       "├─────────────────────────────────┼────────────────────────┼───────────────┤\n",
       "│ C5 (<span style=\"color: #0087ff; text-decoration-color: #0087ff\">Conv2D</span>)                     │ (<span style=\"color: #00d7ff; text-decoration-color: #00d7ff\">None</span>, <span style=\"color: #00af00; text-decoration-color: #00af00\">18</span>, <span style=\"color: #00af00; text-decoration-color: #00af00\">18</span>, <span style=\"color: #00af00; text-decoration-color: #00af00\">120</span>)    │        <span style=\"color: #00af00; text-decoration-color: #00af00\">48,120</span> │\n",
       "├─────────────────────────────────┼────────────────────────┼───────────────┤\n",
       "│ flatten (<span style=\"color: #0087ff; text-decoration-color: #0087ff\">Flatten</span>)               │ (<span style=\"color: #00d7ff; text-decoration-color: #00d7ff\">None</span>, <span style=\"color: #00af00; text-decoration-color: #00af00\">38880</span>)          │             <span style=\"color: #00af00; text-decoration-color: #00af00\">0</span> │\n",
       "├─────────────────────────────────┼────────────────────────┼───────────────┤\n",
       "│ FC6 (<span style=\"color: #0087ff; text-decoration-color: #0087ff\">Dense</span>)                     │ (<span style=\"color: #00d7ff; text-decoration-color: #00d7ff\">None</span>, <span style=\"color: #00af00; text-decoration-color: #00af00\">84</span>)             │     <span style=\"color: #00af00; text-decoration-color: #00af00\">3,266,004</span> │\n",
       "├─────────────────────────────────┼────────────────────────┼───────────────┤\n",
       "│ OUTPUT (<span style=\"color: #0087ff; text-decoration-color: #0087ff\">Dense</span>)                  │ (<span style=\"color: #00d7ff; text-decoration-color: #00d7ff\">None</span>, <span style=\"color: #00af00; text-decoration-color: #00af00\">10</span>)             │           <span style=\"color: #00af00; text-decoration-color: #00af00\">850</span> │\n",
       "└─────────────────────────────────┴────────────────────────┴───────────────┘\n",
       "</pre>\n"
      ],
      "text/plain": [
       "┏━━━━━━━━━━━━━━━━━━━━━━━━━━━━━━━━━┳━━━━━━━━━━━━━━━━━━━━━━━━┳━━━━━━━━━━━━━━━┓\n",
       "┃\u001b[1m \u001b[0m\u001b[1mLayer (type)                   \u001b[0m\u001b[1m \u001b[0m┃\u001b[1m \u001b[0m\u001b[1mOutput Shape          \u001b[0m\u001b[1m \u001b[0m┃\u001b[1m \u001b[0m\u001b[1m      Param #\u001b[0m\u001b[1m \u001b[0m┃\n",
       "┡━━━━━━━━━━━━━━━━━━━━━━━━━━━━━━━━━╇━━━━━━━━━━━━━━━━━━━━━━━━╇━━━━━━━━━━━━━━━┩\n",
       "│ C1 (\u001b[38;5;33mConv2D\u001b[0m)                     │ (\u001b[38;5;45mNone\u001b[0m, \u001b[38;5;34m28\u001b[0m, \u001b[38;5;34m28\u001b[0m, \u001b[38;5;34m6\u001b[0m)      │           \u001b[38;5;34m156\u001b[0m │\n",
       "├─────────────────────────────────┼────────────────────────┼───────────────┤\n",
       "│ average_pooling2d               │ (\u001b[38;5;45mNone\u001b[0m, \u001b[38;5;34m27\u001b[0m, \u001b[38;5;34m27\u001b[0m, \u001b[38;5;34m6\u001b[0m)      │             \u001b[38;5;34m0\u001b[0m │\n",
       "│ (\u001b[38;5;33mAveragePooling2D\u001b[0m)              │                        │               │\n",
       "├─────────────────────────────────┼────────────────────────┼───────────────┤\n",
       "│ conv2d (\u001b[38;5;33mConv2D\u001b[0m)                 │ (\u001b[38;5;45mNone\u001b[0m, \u001b[38;5;34m23\u001b[0m, \u001b[38;5;34m23\u001b[0m, \u001b[38;5;34m16\u001b[0m)     │         \u001b[38;5;34m2,416\u001b[0m │\n",
       "├─────────────────────────────────┼────────────────────────┼───────────────┤\n",
       "│ average_pooling2d_1             │ (\u001b[38;5;45mNone\u001b[0m, \u001b[38;5;34m22\u001b[0m, \u001b[38;5;34m22\u001b[0m, \u001b[38;5;34m16\u001b[0m)     │             \u001b[38;5;34m0\u001b[0m │\n",
       "│ (\u001b[38;5;33mAveragePooling2D\u001b[0m)              │                        │               │\n",
       "├─────────────────────────────────┼────────────────────────┼───────────────┤\n",
       "│ C5 (\u001b[38;5;33mConv2D\u001b[0m)                     │ (\u001b[38;5;45mNone\u001b[0m, \u001b[38;5;34m18\u001b[0m, \u001b[38;5;34m18\u001b[0m, \u001b[38;5;34m120\u001b[0m)    │        \u001b[38;5;34m48,120\u001b[0m │\n",
       "├─────────────────────────────────┼────────────────────────┼───────────────┤\n",
       "│ flatten (\u001b[38;5;33mFlatten\u001b[0m)               │ (\u001b[38;5;45mNone\u001b[0m, \u001b[38;5;34m38880\u001b[0m)          │             \u001b[38;5;34m0\u001b[0m │\n",
       "├─────────────────────────────────┼────────────────────────┼───────────────┤\n",
       "│ FC6 (\u001b[38;5;33mDense\u001b[0m)                     │ (\u001b[38;5;45mNone\u001b[0m, \u001b[38;5;34m84\u001b[0m)             │     \u001b[38;5;34m3,266,004\u001b[0m │\n",
       "├─────────────────────────────────┼────────────────────────┼───────────────┤\n",
       "│ OUTPUT (\u001b[38;5;33mDense\u001b[0m)                  │ (\u001b[38;5;45mNone\u001b[0m, \u001b[38;5;34m10\u001b[0m)             │           \u001b[38;5;34m850\u001b[0m │\n",
       "└─────────────────────────────────┴────────────────────────┴───────────────┘\n"
      ]
     },
     "metadata": {},
     "output_type": "display_data"
    },
    {
     "data": {
      "text/html": [
       "<pre style=\"white-space:pre;overflow-x:auto;line-height:normal;font-family:Menlo,'DejaVu Sans Mono',consolas,'Courier New',monospace\"><span style=\"font-weight: bold\"> Total params: </span><span style=\"color: #00af00; text-decoration-color: #00af00\">3,317,546</span> (12.66 MB)\n",
       "</pre>\n"
      ],
      "text/plain": [
       "\u001b[1m Total params: \u001b[0m\u001b[38;5;34m3,317,546\u001b[0m (12.66 MB)\n"
      ]
     },
     "metadata": {},
     "output_type": "display_data"
    },
    {
     "data": {
      "text/html": [
       "<pre style=\"white-space:pre;overflow-x:auto;line-height:normal;font-family:Menlo,'DejaVu Sans Mono',consolas,'Courier New',monospace\"><span style=\"font-weight: bold\"> Trainable params: </span><span style=\"color: #00af00; text-decoration-color: #00af00\">3,317,546</span> (12.66 MB)\n",
       "</pre>\n"
      ],
      "text/plain": [
       "\u001b[1m Trainable params: \u001b[0m\u001b[38;5;34m3,317,546\u001b[0m (12.66 MB)\n"
      ]
     },
     "metadata": {},
     "output_type": "display_data"
    },
    {
     "data": {
      "text/html": [
       "<pre style=\"white-space:pre;overflow-x:auto;line-height:normal;font-family:Menlo,'DejaVu Sans Mono',consolas,'Courier New',monospace\"><span style=\"font-weight: bold\"> Non-trainable params: </span><span style=\"color: #00af00; text-decoration-color: #00af00\">0</span> (0.00 B)\n",
       "</pre>\n"
      ],
      "text/plain": [
       "\u001b[1m Non-trainable params: \u001b[0m\u001b[38;5;34m0\u001b[0m (0.00 B)\n"
      ]
     },
     "metadata": {},
     "output_type": "display_data"
    }
   ],
   "source": [
    "# define the arhitecture of the network\n",
    "lenet = Sequential()\n",
    "lenet.add(Conv2D(6, kernel_size = (5, 5), activation = 'tanh', input_shape = input_shape, padding = 'same', name  = 'C1'))\n",
    "lenet.add(AveragePooling2D(pool_size = (2, 2), strides = (1, 1), padding = 'valid'))\n",
    "lenet.add(Conv2D(16, kernel_size = (5, 5), strides = (1, 1), activation = 'tanh', padding = 'valid'))\n",
    "lenet.add(AveragePooling2D(pool_size = (2, 2), strides = (1, 1), padding = 'valid'))\n",
    "lenet.add(Conv2D(120, kernel_size = (5, 5), activation = 'tanh', padding = 'valid', name = 'C5'))\n",
    "lenet.add(Flatten())\n",
    "lenet.add(Dense(84, activation = 'tanh', name = 'FC6'))\n",
    "lenet.add(Dense(num_classes, activation = 'softmax', name = 'OUTPUT'))\n",
    "\n",
    "# compile the model\n",
    "lenet.compile(loss = categorical_crossentropy, optimizer = 'SGD', metrics = ['accuracy'])\n",
    "\n",
    "lenet.summary()"
   ]
  },
  {
   "cell_type": "code",
   "execution_count": 26,
   "id": "8812ab3b",
   "metadata": {},
   "outputs": [
    {
     "name": "stdout",
     "output_type": "stream",
     "text": [
      "Epoch 1/3\n",
      "\u001b[1m938/938\u001b[0m \u001b[32m━━━━━━━━━━━━━━━━━━━━\u001b[0m\u001b[37m\u001b[0m \u001b[1m57s\u001b[0m 61ms/step - accuracy: 0.8523 - loss: 0.5607 - val_accuracy: 0.9464 - val_loss: 0.1963\n",
      "Epoch 2/3\n",
      "\u001b[1m938/938\u001b[0m \u001b[32m━━━━━━━━━━━━━━━━━━━━\u001b[0m\u001b[37m\u001b[0m \u001b[1m60s\u001b[0m 64ms/step - accuracy: 0.9476 - loss: 0.1884 - val_accuracy: 0.9582 - val_loss: 0.1496\n",
      "Epoch 3/3\n",
      "\u001b[1m938/938\u001b[0m \u001b[32m━━━━━━━━━━━━━━━━━━━━\u001b[0m\u001b[37m\u001b[0m \u001b[1m64s\u001b[0m 68ms/step - accuracy: 0.9595 - loss: 0.1468 - val_accuracy: 0.9632 - val_loss: 0.1277\n"
     ]
    }
   ],
   "source": [
    "# the training of the model\n",
    "batch_size = 64\n",
    "epochs = 3\n",
    "history = lenet.fit(X_train, y_train, batch_size = batch_size, epochs = epochs, verbose = 1, validation_data = (X_test, y_test))"
   ]
  },
  {
   "cell_type": "markdown",
   "id": "e767b9eb",
   "metadata": {},
   "source": [
    "### Chapter 12. Performing Image Classification"
   ]
  },
  {
   "cell_type": "code",
   "execution_count": 27,
   "id": "b40694ce",
   "metadata": {},
   "outputs": [],
   "source": [
    "import numpy as np\n",
    "import matplotlib.pyplot as plt\n",
    "import pprint\n",
    "import zipfile\n",
    "from skimage.transform import resize\n",
    "from skimage.io import imread \n",
    "\n",
    "import warnings\n",
    "warnings.filterwarnings(\"ignore\")\n",
    "\n",
    "from keras.models import Sequential\n",
    "from keras.layers import Conv2D, MaxPooling2D, Flatten, Dense, Dropout\n",
    "from keras.utils import to_categorical\n",
    "from keras.optimizers import Adam\n",
    "from tensorflow.keras.preprocessing.image import ImageDataGenerator"
   ]
  },
  {
   "cell_type": "code",
   "execution_count": null,
   "id": "97aa712b",
   "metadata": {},
   "outputs": [],
   "source": [
    "# load the GTSRB dataset into training and test sets, resize the images\n",
    "IMG_SIZE = 32\n",
    "TEST_SIZE = 0.2\n",
    "X, Xt, y, yt = list(), list(), list(), list()\n",
    "archieve = zipfile.ZipFile(\"./GTSRB_Final_Training_Images.zip\", 'r')\n",
    "file_paths = [file for file in archieve.namelist() if '.ppm' in file]\n",
    "\n",
    "for filename in file_paths:\n",
    "    img = imread(archieve.open(filename))\n",
    "    img = resize(img, (IMG_SIZE, IMG_SIZE), mode = 'reflect')\n",
    "    img_label = int(filename.split('/')[-2])\n",
    "\n",
    "    if (hash(filename) % 1000 / 1000 > TEST_SIZE):\n",
    "        X.append(img)\n",
    "        y.append(img_label)\n",
    "    else:\n",
    "        Xt.append(img)\n",
    "        yt.append(img_label)\n",
    "\n",
    "archieve.close()"
   ]
  },
  {
   "cell_type": "code",
   "execution_count": null,
   "id": "f6e847f6",
   "metadata": {},
   "outputs": [
    {
     "name": "stdout",
     "output_type": "stream",
     "text": [
      "Train size: 31362 test_size: 7847 (0.200)\n"
     ]
    }
   ],
   "source": [
    "test_ratio = len(Xt) / len(file_paths)\n",
    "print(\"Train size: {} test_size: {} ({:0.3f})\".format(len(X), len(Xt), test_ratio))"
   ]
  },
  {
   "cell_type": "code",
   "execution_count": null,
   "id": "1441dfe4",
   "metadata": {},
   "outputs": [
    {
     "name": "stdout",
     "output_type": "stream",
     "text": [
      "No classes: 43\n"
     ]
    },
    {
     "data": {
      "image/png": "[encoded data removed]",
      "text/plain": [
       "<Figure size 640x480 with 1 Axes>"
      ]
     },
     "metadata": {},
     "output_type": "display_data"
    }
   ],
   "source": [
    "# distribution of the classes\n",
    "classes, dist = np.unique(y + yt, return_counts = True)\n",
    "NUM_CLASSES = len(classes)\n",
    "print(\"No classes: {}\".format(NUM_CLASSES))\n",
    "\n",
    "plt.bar(classes, dist, align = 'center', alpha = 0.5)\n",
    "plt.show()"
   ]
  },
  {
   "cell_type": "code",
   "execution_count": null,
   "id": "117b7896",
   "metadata": {},
   "outputs": [],
   "source": [
    "# weight classes\n",
    "class_weight = {c: dist[c] / np.sum(dist) for c in classes}"
   ]
  },
  {
   "cell_type": "code",
   "execution_count": null,
   "id": "f373b5a5",
   "metadata": {},
   "outputs": [],
   "source": [
    "# running a classification task\n",
    "batch_size = 256\n",
    "\n",
    "# preprocessing the training images with augmentation\n",
    "tgen = ImageDataGenerator(\n",
    "    rescale = 1/255,\n",
    "    rotation_range = 5,\n",
    "    width_shift_range = 0.10,\n",
    "    height_shift_range = 0.10)\n",
    "\n",
    "train_gen = tgen.flow(np.array(X), to_categorical(y), batch_size = batch_size)\n",
    "\n",
    "vgen = ImageDataGenerator(rescale = 1/255)\n",
    "\n",
    "val_gen = vgen.flow(np.array(Xt), to_categorical(yt), batch_size = batch_size)"
   ]
  },
  {
   "cell_type": "code",
   "execution_count": null,
   "id": "1b1162e9",
   "metadata": {},
   "outputs": [],
   "source": [
    "# building the neural network\n",
    "def small_cnn():\n",
    "    model = Sequential()\n",
    "    model.add(Conv2D(32, (5,5), padding = 'same', input_shape = (IMG_SIZE, IMG_SIZE, 3), activation = 'relu'))\n",
    "    model.add(Conv2D(64, (5, 5), activation = 'relu'))\n",
    "    model.add(Flatten())\n",
    "    model.add(Dense(768, activation = 'relu'))\n",
    "    model.add(Dropout(0.4))\n",
    "    model.add(Dense(NUM_CLASSES, activation = 'softmax'))\n",
    "    return model\n",
    "\n",
    "model = small_cnn()\n",
    "model.compile(loss = 'categorical_crossentropy', optimizer = Adam(), metrics = ['accuracy'])"
   ]
  },
  {
   "cell_type": "code",
   "execution_count": null,
   "id": "933f2630",
   "metadata": {},
   "outputs": [
    {
     "name": "stdout",
     "output_type": "stream",
     "text": [
      "Epoch 1/30\n",
      "122/122 - 88s - 718ms/step - accuracy: 0.5660 - loss: 0.0407 - val_accuracy: 0.7350 - val_loss: 0.8484\n",
      "Epoch 2/30\n",
      "122/122 - 6s - 52ms/step - accuracy: 0.5385 - loss: 0.0365 - val_accuracy: 0.7365 - val_loss: 0.8484\n",
      "Epoch 3/30\n",
      "122/122 - 90s - 737ms/step - accuracy: 0.6050 - loss: 0.0365 - val_accuracy: 0.7763 - val_loss: 0.7296\n",
      "Epoch 4/30\n",
      "122/122 - 7s - 54ms/step - accuracy: 0.6055 - loss: 0.0348 - val_accuracy: 0.7781 - val_loss: 0.7307\n",
      "Epoch 5/30\n",
      "122/122 - 96s - 783ms/step - accuracy: 0.6368 - loss: 0.0334 - val_accuracy: 0.7999 - val_loss: 0.6440\n",
      "Epoch 6/30\n",
      "122/122 - 7s - 56ms/step - accuracy: 0.6562 - loss: 0.0307 - val_accuracy: 0.7969 - val_loss: 0.6455\n",
      "Epoch 7/30\n",
      "122/122 - 98s - 802ms/step - accuracy: 0.6643 - loss: 0.0301 - val_accuracy: 0.8332 - val_loss: 0.5613\n",
      "Epoch 8/30\n",
      "122/122 - 7s - 56ms/step - accuracy: 0.6562 - loss: 0.0297 - val_accuracy: 0.8352 - val_loss: 0.5632\n",
      "Epoch 9/30\n",
      "122/122 - 108s - 888ms/step - accuracy: 0.6872 - loss: 0.0280 - val_accuracy: 0.8310 - val_loss: 0.5321\n",
      "Epoch 10/30\n",
      "122/122 - 8s - 65ms/step - accuracy: 0.6836 - loss: 0.0289 - val_accuracy: 0.8297 - val_loss: 0.5307\n",
      "Epoch 11/30\n",
      "122/122 - 117s - 959ms/step - accuracy: 0.7042 - loss: 0.0263 - val_accuracy: 0.8611 - val_loss: 0.4668\n",
      "Epoch 12/30\n",
      "122/122 - 9s - 73ms/step - accuracy: 0.7383 - loss: 0.0202 - val_accuracy: 0.8556 - val_loss: 0.4804\n",
      "Epoch 13/30\n",
      "122/122 - 125s - 1s/step - accuracy: 0.7272 - loss: 0.0245 - val_accuracy: 0.8764 - val_loss: 0.4167\n",
      "Epoch 14/30\n",
      "122/122 - 9s - 78ms/step - accuracy: 0.7266 - loss: 0.0223 - val_accuracy: 0.8736 - val_loss: 0.4199\n",
      "Epoch 15/30\n",
      "122/122 - 130s - 1s/step - accuracy: 0.7423 - loss: 0.0226 - val_accuracy: 0.8908 - val_loss: 0.3746\n",
      "Epoch 16/30\n",
      "122/122 - 9s - 70ms/step - accuracy: 0.7773 - loss: 0.0196 - val_accuracy: 0.8897 - val_loss: 0.3720\n",
      "Epoch 17/30\n",
      "122/122 - 116s - 953ms/step - accuracy: 0.7581 - loss: 0.0212 - val_accuracy: 0.8984 - val_loss: 0.3526\n",
      "Epoch 18/30\n",
      "122/122 - 7s - 60ms/step - accuracy: 0.6836 - loss: 0.0320 - val_accuracy: 0.9004 - val_loss: 0.3491\n",
      "Epoch 19/30\n",
      "122/122 - 102s - 837ms/step - accuracy: 0.7653 - loss: 0.0206 - val_accuracy: 0.9052 - val_loss: 0.3216\n",
      "Epoch 20/30\n",
      "122/122 - 7s - 61ms/step - accuracy: 0.7461 - loss: 0.0205 - val_accuracy: 0.9034 - val_loss: 0.3207\n",
      "Epoch 21/30\n",
      "122/122 - 102s - 832ms/step - accuracy: 0.7818 - loss: 0.0189 - val_accuracy: 0.9124 - val_loss: 0.3017\n",
      "Epoch 22/30\n",
      "122/122 - 7s - 55ms/step - accuracy: 0.7812 - loss: 0.0196 - val_accuracy: 0.9173 - val_loss: 0.2909\n",
      "Epoch 23/30\n",
      "122/122 - 99s - 814ms/step - accuracy: 0.7891 - loss: 0.0180 - val_accuracy: 0.9198 - val_loss: 0.2855\n",
      "Epoch 24/30\n",
      "122/122 - 7s - 58ms/step - accuracy: 0.7773 - loss: 0.0200 - val_accuracy: 0.9184 - val_loss: 0.2905\n",
      "Epoch 25/30\n",
      "122/122 - 104s - 853ms/step - accuracy: 0.7962 - loss: 0.0173 - val_accuracy: 0.9264 - val_loss: 0.2506\n",
      "Epoch 26/30\n",
      "122/122 - 7s - 61ms/step - accuracy: 0.8281 - loss: 0.0144 - val_accuracy: 0.9224 - val_loss: 0.2609\n",
      "Epoch 27/30\n",
      "122/122 - 108s - 886ms/step - accuracy: 0.8062 - loss: 0.0164 - val_accuracy: 0.9280 - val_loss: 0.2461\n",
      "Epoch 28/30\n",
      "122/122 - 8s - 63ms/step - accuracy: 0.7969 - loss: 0.0178 - val_accuracy: 0.9275 - val_loss: 0.2452\n",
      "Epoch 29/30\n",
      "122/122 - 114s - 933ms/step - accuracy: 0.8151 - loss: 0.0157 - val_accuracy: 0.9294 - val_loss: 0.2357\n",
      "Epoch 30/30\n",
      "122/122 - 8s - 65ms/step - accuracy: 0.7422 - loss: 0.0171 - val_accuracy: 0.9284 - val_loss: 0.2373\n"
     ]
    }
   ],
   "source": [
    "# train the model\n",
    "history = model.fit(\n",
    "    train_gen,\n",
    "    steps_per_epoch = len(X) // batch_size,\n",
    "    validation_data = val_gen,\n",
    "    validation_steps = len(Xt) // batch_size,\n",
    "    class_weight = class_weight,\n",
    "    epochs = 30,\n",
    "    verbose = 2\n",
    ")"
   ]
  },
  {
   "cell_type": "code",
   "execution_count": null,
   "id": "754116eb",
   "metadata": {},
   "outputs": [
    {
     "name": "stdout",
     "output_type": "stream",
     "text": [
      "Best validation accuracy: 0.929\n"
     ]
    },
    {
     "data": {
      "image/png": "[encoded data removed]",
      "text/plain": [
       "<Figure size 640x480 with 1 Axes>"
      ]
     },
     "metadata": {},
     "output_type": "display_data"
    }
   ],
   "source": [
    "# plotting the training and validation accuracy\n",
    "print(\"Best validation accuracy: {:0.3f}\".format(np.max(history.history['val_accuracy'])))\n",
    "\n",
    "plt.plot(history.history['accuracy'])\n",
    "plt.plot(history.history['val_accuracy'])\n",
    "plt.ylabel('accuracy'); plt.xlabel('epoch')\n",
    "plt.legend(['train', 'test'], loc = 'lower right')\n",
    "plt.show()"
   ]
  },
  {
   "cell_type": "code",
   "execution_count": null,
   "id": "469f2e0f",
   "metadata": {},
   "outputs": [],
   "source": []
  }
 ],
 "metadata": {
  "kernelspec": {
   "display_name": "Python 3",
   "language": "python",
   "name": "python3"
  },
  "language_info": {
   "codemirror_mode": {
    "name": "ipython",
    "version": 3
   },
   "file_extension": ".py",
   "mimetype": "text/x-python",
   "name": "python",
   "nbconvert_exporter": "python",
   "pygments_lexer": "ipython3",
   "version": "3.11.13"
  }
 },
 "nbformat": 4,
 "nbformat_minor": 5
}
