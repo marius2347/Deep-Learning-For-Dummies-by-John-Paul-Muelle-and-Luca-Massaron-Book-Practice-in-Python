{
 "cells": [
  {
   "cell_type": "code",
   "execution_count": null,
   "id": "2ecb9faf",
   "metadata": {},
   "outputs": [],
   "source": []
  },
  {
   "cell_type": "code",
   "execution_count": 2,
   "id": "38a76c27",
   "metadata": {},
   "outputs": [
    {
     "name": "stdout",
     "output_type": "stream",
     "text": [
      "python3 script to run a simple HTTP server\n"
     ]
    }
   ],
   "source": [
    "print(\"python3 script to run a simple HTTP server\")"
   ]
  },
  {
   "cell_type": "code",
   "execution_count": null,
   "id": "516a70f5",
   "metadata": {},
   "outputs": [],
   "source": []
  }
 ],
 "metadata": {
  "kernelspec": {
   "display_name": "Python 3",
   "language": "python",
   "name": "python3"
  },
  "language_info": {
   "codemirror_mode": {
    "name": "ipython",
    "version": 3
   },
   "file_extension": ".py",
   "mimetype": "text/x-python",
   "name": "python",
   "nbconvert_exporter": "python",
   "pygments_lexer": "ipython3",
   "version": "3.9.6"
  }
 },
 "nbformat": 4,
 "nbformat_minor": 5
}
